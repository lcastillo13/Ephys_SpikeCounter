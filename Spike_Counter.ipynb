{
 "cells": [
  {
   "cell_type": "code",
   "execution_count": 291,
   "metadata": {},
   "outputs": [],
   "source": [
    "# This code is designed to count the number of spike from an electrophysiology voltage trace that meet a certain threshold. "
   ]
  },
  {
   "cell_type": "code",
   "execution_count": 292,
   "metadata": {},
   "outputs": [],
   "source": [
    "import numpy as np"
   ]
  },
  {
   "cell_type": "code",
   "execution_count": 293,
   "metadata": {},
   "outputs": [
    {
     "data": {
      "text/plain": [
       "pandas.core.frame.DataFrame"
      ]
     },
     "execution_count": 293,
     "metadata": {},
     "output_type": "execute_result"
    }
   ],
   "source": [
    "import pandas as pd\n",
    "\n",
    "# Importing our data text file of voltage traces. \n",
    "\n",
    "path_to_data = '/Users/lauracastillo/PythonProject/ephys_sample_1.txt'\n",
    "\n",
    "df = pd.read_csv(path_to_data, sep=' ', names=['Unnamed: 0', 'time', 'voltage', 'Unnamed: 3'])\n",
    "\n",
    "df = df.drop(['Unnamed: 0', 'Unnamed: 3'], axis=1)\n",
    "\n",
    "type(df)\n",
    "\n",
    "# Used this feature to make sure our data imported correctly \n",
    "#print (df)"
   ]
  },
  {
   "cell_type": "code",
   "execution_count": 294,
   "metadata": {},
   "outputs": [],
   "source": [
    "# Did not end up using this. \n",
    "# Initiall thought to make a zeroes matrix from our df. \n",
    "\n",
    "#spiketimes = pd.zeros((1,50001))\n",
    "#spiketimes = np.zeros(shape=(499,2))\n",
    "#zeroesmat = pd.DataFrame(spiketimes,columns=['spike time','voltage'])\n",
    "#print (zeroesmat)\n",
    "#print (df)\n"
   ]
  },
  {
   "cell_type": "code",
   "execution_count": 295,
   "metadata": {},
   "outputs": [
    {
     "name": "stdout",
     "output_type": "stream",
     "text": [
      "1\n"
     ]
    }
   ],
   "source": [
    "# Our data is formatted a little weird. Here we see that the formatting changes at line 500. Moving forward we will only look through the data 499. \n",
    "for j in range(5000):\n",
    "    if df.iloc[j,0] > 0:\n",
    "        print(j)\n",
    "        break"
   ]
  },
  {
   "cell_type": "code",
   "execution_count": 296,
   "metadata": {},
   "outputs": [],
   "source": [
    "# Not using anymore\n",
    "#voltage = df.iloc[0:5000, 1]"
   ]
  },
  {
   "cell_type": "code",
   "execution_count": 297,
   "metadata": {},
   "outputs": [],
   "source": [
    "# Not using anymore\n",
    "#time = df.iloc[0:5000,0]\n",
    "#print (time)"
   ]
  },
  {
   "cell_type": "code",
   "execution_count": 298,
   "metadata": {},
   "outputs": [],
   "source": [
    "#Not using anymore\n",
    "#zeroesmat.iloc[3,0] = 0\n",
    "#print(zeroesmat)"
   ]
  },
  {
   "cell_type": "code",
   "execution_count": 299,
   "metadata": {},
   "outputs": [
    {
     "name": "stdout",
     "output_type": "stream",
     "text": [
      "    time  voltage\n",
      "0   0.00  -70.783\n",
      "1   0.02  -70.646\n",
      "2   0.04  -70.514\n",
      "3   0.06  -70.386\n",
      "4   0.08  -70.263\n",
      "5   0.10  -70.144\n",
      "6   0.12  -70.029\n",
      "7   0.14  -69.918\n",
      "8   0.16  -69.811\n",
      "9   0.18  -69.707\n",
      "10  0.20  -69.606\n",
      "11  0.22  -69.508\n",
      "12  0.24  -69.414\n",
      "13  0.26  -69.322\n",
      "14  0.28  -69.233\n",
      "15  0.30  -69.146\n",
      "16  0.32  -69.062\n",
      "17  0.34  -68.980\n",
      "18  0.36  -68.901\n",
      "19  0.38  -68.824\n",
      "20  0.40  -68.748\n",
      "21  0.42  -68.675\n",
      "22  0.44  -68.604\n",
      "23  0.46  -68.534\n",
      "24  0.48  -68.467\n",
      "25  0.50  -68.401\n",
      "26  0.52  -68.336\n",
      "27  0.54  -68.273\n",
      "28  0.56  -68.212\n",
      "29  0.58  -68.152\n",
      "30  0.60  -68.093\n",
      "31  0.62  -68.036\n",
      "32  0.64  -67.980\n",
      "33  0.66  -67.925\n",
      "34  0.68  -67.871\n",
      "35  0.70  -67.819\n",
      "36  0.72  -67.767\n",
      "37  0.74  -67.717\n",
      "38  0.76  -67.668\n",
      "39  0.78  -67.619\n",
      "40  0.80  -67.572\n",
      "41  0.82  -67.526\n",
      "42  0.84  -67.480\n",
      "43  0.86  -67.436\n",
      "44  0.88  -67.392\n",
      "45  0.90  -67.349\n",
      "46  0.92  -67.307\n",
      "47  0.94  -67.265\n",
      "48  0.96  -67.225\n",
      "49  0.98  -67.185\n",
      "50  1.00  -67.146\n",
      "51  1.02  -67.107\n",
      "52  1.04  -67.069\n",
      "53  1.06  -67.032\n"
     ]
    }
   ],
   "source": [
    "# Loooking through data through 499. Identifying where voltage traces are less than or equal to -67. \n",
    "idx_aboveth=[];\n",
    "for j in range(499):\n",
    "    if df.iloc[j,1] <= -67:\n",
    "        count = count + 1\n",
    "        idx_aboveth.append(j)\n",
    "        #zeroesmat.iloc[j,1]=1;\n",
    "        \n",
    "#print(zeroesmat)\n",
    "\n",
    "#print (idx_aboveth)\n",
    "\n",
    "#creating a table of the times and voltages where our trace was above -67\n",
    "tableaboveth = df.iloc[idx_aboveth,:]\n",
    "print (tableaboveth)\n",
    "\n",
    "    "
   ]
  },
  {
   "cell_type": "code",
   "execution_count": null,
   "metadata": {},
   "outputs": [],
   "source": []
  }
 ],
 "metadata": {
  "kernelspec": {
   "display_name": "Python 3",
   "language": "python",
   "name": "python3"
  },
  "language_info": {
   "codemirror_mode": {
    "name": "ipython",
    "version": 3
   },
   "file_extension": ".py",
   "mimetype": "text/x-python",
   "name": "python",
   "nbconvert_exporter": "python",
   "pygments_lexer": "ipython3",
   "version": "3.7.3"
  }
 },
 "nbformat": 4,
 "nbformat_minor": 4
}
